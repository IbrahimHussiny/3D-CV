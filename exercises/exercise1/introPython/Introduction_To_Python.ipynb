{
 "cells": [
  {
   "cell_type": "markdown",
   "metadata": {},
   "source": [
    "#                                    Introduction to Python, Numpy and Scipy"
   ]
  },
  {
   "cell_type": "markdown",
   "metadata": {},
   "source": [
    "### Tewodros Amberbir, Christiano Gava"
   ]
  },
  {
   "cell_type": "markdown",
   "metadata": {},
   "source": [
    "During the previous offerings of the course, the exercises have been mainly handed in MATLAB. Now we have decided to change the language of the exercise submission to python. Python, apart from being convenient for quick prototyping, it has numerous open-source libraries supporting scientific computing. \n",
    "\n",
    "Since some students come to this lecture before learning Python, we have decided to do a quick introduction to the Python Language and some of the libraries we will use in the upcoming exercises."
   ]
  },
  {
   "cell_type": "markdown",
   "metadata": {},
   "source": [
    "## Tasks for this Exercise\n",
    "\n",
    "In this exercise you are expected to accomplish the following goals:\n",
    "\n",
    "1. Installing Python, pip, scipy, numpy, matplotlib packages.\n",
    "2. Learning basics of the Python programming language and some useful packages."
   ]
  },
  {
   "cell_type": "markdown",
   "metadata": {},
   "source": [
    "# Installation Instructions\n",
    "\n",
    "Installation instructions for Linux users. <br>\n",
    "\n",
    "### Python\n",
    "**sudo apt-get update** <br>\n",
    "**sudo apt-get install python2.7** <br>\n",
    "### Pip\n",
    "** wget https://bootstrap.pypa.io/get-pip.py ** <br>\n",
    "** sudo python get-pip.py** <br>\n",
    "### Scipy, Numpy and Matplotlib\n",
    "** sudo apt-get install build-essential gfortran libatlas-base-dev python-pip python-dev ** <br>\n",
    "** sudo pip install scipy ** <br>\n",
    "** sudo pip install numpy** <br>\n",
    "** sudo pip install matplotlib ** <br>"
   ]
  },
  {
   "cell_type": "markdown",
   "metadata": {},
   "source": [
    "# Python"
   ]
  },
  {
   "cell_type": "markdown",
   "metadata": {},
   "source": [
    "Python is an interpreted high-level programming language. It was developed by Guido van Rossum as successor to the ABC language. ABC was designed to be a language for prototyping and teaching. Python shares many features with ABC, like *not having variable declaration *, the **off-side-rule**(expressing blocks via indentation), etc.\n",
    "\n",
    "Python was developed with the following main goals:\n",
    "    - easy and intuitive to learn; at the same time to be as powerful as other languages.\n",
    "    - readable code\n",
    "    - short development time and \n",
    "    - open source\n"
   ]
  },
  {
   "cell_type": "code",
   "execution_count": 18,
   "metadata": {
    "scrolled": false
   },
   "outputs": [],
   "source": [
    "# Zen of Python by Tim Peters\n",
    "# Uncomment the following line\n",
    "# import this"
   ]
  },
  {
   "cell_type": "markdown",
   "metadata": {},
   "source": [
    "## Built-in Data types\n",
    "Python supports the following primitive data types: \n",
    "    - Integers, int,\n",
    "    - Floating-point, float\n",
    "    - Complex, complex\n",
    "    - String, str"
   ]
  },
  {
   "cell_type": "markdown",
   "metadata": {},
   "source": [
    "## Variables"
   ]
  },
  {
   "cell_type": "code",
   "execution_count": 2,
   "metadata": {},
   "outputs": [
    {
     "name": "stdout",
     "output_type": "stream",
     "text": [
      "Hello World!!\n",
      "<class 'str'>\n"
     ]
    }
   ],
   "source": [
    "# Lets create a string variable\n",
    "str_msg = \"Hello World!!\"\n",
    "print(str_msg)\n",
    "print(type(str_msg))"
   ]
  },
  {
   "cell_type": "code",
   "execution_count": 3,
   "metadata": {},
   "outputs": [
    {
     "name": "stdout",
     "output_type": "stream",
     "text": [
      "1\n",
      "<class 'int'>\n"
     ]
    }
   ],
   "source": [
    "# Integers and Floats\n",
    "a = 1\n",
    "print(a)\n",
    "print(type(a))"
   ]
  },
  {
   "cell_type": "code",
   "execution_count": 1,
   "metadata": {},
   "outputs": [
    {
     "name": "stdout",
     "output_type": "stream",
     "text": [
      "1.0 <class 'float'>\n"
     ]
    }
   ],
   "source": [
    "# Note that there is no need for Variable declaration\n",
    "# In Python, data type is inferred during assignment, see how a float variable is initialized\n",
    "\n",
    "b = 1.0\n",
    "print(b, type(b))"
   ]
  },
  {
   "cell_type": "code",
   "execution_count": 2,
   "metadata": {},
   "outputs": [
    {
     "name": "stdout",
     "output_type": "stream",
     "text": [
      "(10+20j)\n"
     ]
    }
   ],
   "source": [
    "# Creating a complex Variable, complex(real, imaginery)\n",
    "\n",
    "c = complex(10,20)\n",
    "print(c)"
   ]
  },
  {
   "cell_type": "markdown",
   "metadata": {},
   "source": [
    "## Builtin Collection Types"
   ]
  },
  {
   "cell_type": "markdown",
   "metadata": {},
   "source": [
    "### List\n",
    "List is an ordered set of Python objects. Imagine we have 3 cameras, camera 1, camera 2 and camera 3. It is might be convenient to store their focal length values in a list: focal_lengths = [f1, f2, f3]."
   ]
  },
  {
   "cell_type": "code",
   "execution_count": 5,
   "metadata": {},
   "outputs": [
    {
     "name": "stdout",
     "output_type": "stream",
     "text": [
      "[]\n",
      "[1, 2, 3]\n",
      "[1, 2.0, 3, 'four', []]\n"
     ]
    }
   ],
   "source": [
    "# Lists are created via comma sparated objects inside square brackates\n",
    "\n",
    "# An empty list\n",
    "list_0 = []\n",
    "list_1 = [1,2,3]\n",
    "print(list_0)\n",
    "print(list_1)\n",
    "\n",
    "# Elements of a list could belong to different classes, including list itself\n",
    "# A List of integer, float, string, list\n",
    "mixed_list = [1, 2.0, 3, \"four\" , []]\n",
    "print(mixed_list)"
   ]
  },
  {
   "cell_type": "markdown",
   "metadata": {},
   "source": [
    "**list.pop(i)** <br>\n",
    "Pops the element at index i. If no index argument is passed it pops the last element."
   ]
  },
  {
   "cell_type": "code",
   "execution_count": 6,
   "metadata": {},
   "outputs": [
    {
     "name": "stdout",
     "output_type": "stream",
     "text": [
      "List_1 ==  [1, 2, 3, 4]\n",
      "List_1 ==  [2, 3, 4]\n",
      "1\n",
      "4\n"
     ]
    }
   ],
   "source": [
    "list_1 = [1,2,3,4]\n",
    "print(\"List_1 == \", list_1)\n",
    "a = list_1.pop(0)\n",
    "print(\"List_1 == \", list_1)\n",
    "print(a)\n",
    "b = list_1.pop()\n",
    "print(b)"
   ]
  },
  {
   "cell_type": "markdown",
   "metadata": {},
   "source": [
    "**list.index(x)** <br>\n",
    "Returns the **index** in the list of the first item whose value is **x**. It is an error if there is no such\n",
    "item."
   ]
  },
  {
   "cell_type": "code",
   "execution_count": 7,
   "metadata": {},
   "outputs": [
    {
     "name": "stdout",
     "output_type": "stream",
     "text": [
      "Index ==  2\n"
     ]
    }
   ],
   "source": [
    "list_1 = [1,2,3,4]\n",
    "idx = list_1.index(3)\n",
    "print(\"Index == \", idx)\n"
   ]
  },
  {
   "cell_type": "markdown",
   "metadata": {},
   "source": [
    "### Tuples\n",
    "Tuples are **immutable** sequences. They are similar to lists except that\n",
    "it is not possible to change them once they are created. Whenever you have a sequence of objects that will not change throughout execution of your program, it is usually a good idea to use tuples instead of lists."
   ]
  },
  {
   "cell_type": "code",
   "execution_count": 8,
   "metadata": {},
   "outputs": [
    {
     "name": "stdout",
     "output_type": "stream",
     "text": [
      "0\n",
      "four\n",
      "Casting Lists to Tuples\n",
      "[0, 1, 2, 3, 'four']\n",
      "(0, 1, 2, 3, 'four')\n"
     ]
    },
    {
     "ename": "TypeError",
     "evalue": "'tuple' object does not support item assignment",
     "output_type": "error",
     "traceback": [
      "\u001b[0;31m---------------------------------------------------------------------------\u001b[0m",
      "\u001b[0;31mTypeError\u001b[0m                                 Traceback (most recent call last)",
      "\u001b[0;32m<ipython-input-8-46f29f2aa593>\u001b[0m in \u001b[0;36m<module>\u001b[0;34m()\u001b[0m\n\u001b[1;32m     12\u001b[0m \u001b[0mprint\u001b[0m\u001b[0;34m(\u001b[0m\u001b[0mtuple_1\u001b[0m\u001b[0;34m)\u001b[0m\u001b[0;34m\u001b[0m\u001b[0m\n\u001b[1;32m     13\u001b[0m \u001b[0;31m# Trying to change element of a tuple will give you an error\u001b[0m\u001b[0;34m\u001b[0m\u001b[0;34m\u001b[0m\u001b[0m\n\u001b[0;32m---> 14\u001b[0;31m \u001b[0ma\u001b[0m\u001b[0;34m[\u001b[0m\u001b[0;36m4\u001b[0m\u001b[0;34m]\u001b[0m \u001b[0;34m=\u001b[0m \u001b[0;36m4\u001b[0m\u001b[0;34m\u001b[0m\u001b[0m\n\u001b[0m",
      "\u001b[0;31mTypeError\u001b[0m: 'tuple' object does not support item assignment"
     ]
    }
   ],
   "source": [
    "# An empty tuple is created with two parentheses\n",
    "a = ()\n",
    "\n",
    "a = (0,1,2,3,\"four\")\n",
    "print(a[0])\n",
    "print(a[4])\n",
    "\n",
    "print(\"Casting Lists to Tuples\")\n",
    "list_1 = [0,1,2,3,\"four\"]\n",
    "tuple_1 = tuple(list_1)\n",
    "print(list_1)\n",
    "print(tuple_1)\n",
    "# Trying to change element of a tuple will give you an error\n",
    "a[4] = 4\n"
   ]
  },
  {
   "cell_type": "markdown",
   "metadata": {},
   "source": [
    "### Dictionaries\n",
    "Dictionaries are unordered collection of ***key:value*** pairs. Dictionaries are similar to what is called **associative arrays**. Unlike lists, where indexing is possible with integer indexes, dictionaries allow us to use strings or other objects as keys."
   ]
  },
  {
   "cell_type": "code",
   "execution_count": 3,
   "metadata": {},
   "outputs": [
    {
     "name": "stdout",
     "output_type": "stream",
     "text": [
      "{'one': 1, 'x': 3, 'two': 2}\n",
      "2\n"
     ]
    }
   ],
   "source": [
    "dict_empty = {}\n",
    "dict_1 = {\"one\": 1, \"two\":2, \"x\": 3}\n",
    "print(dict_1)\n",
    "print(dict_1['two'])"
   ]
  },
  {
   "cell_type": "code",
   "execution_count": 19,
   "metadata": {},
   "outputs": [
    {
     "name": "stdout",
     "output_type": "stream",
     "text": [
      "{'one': 3}\n",
      "3\n",
      "{'three': 30, 'two': 20, 'one': 10}\n",
      "Let's remove one\n",
      "{'three': 30, 'two': 20}\n",
      "Let's remove three also\n",
      "{'two': 20}\n"
     ]
    }
   ],
   "source": [
    "# Keys in a dictionary must be unique\n",
    "\n",
    "dict_1 = {\"one\": 1, \"one\": 3}\n",
    "print(dict_1)\n",
    "print(dict_1['one'])\n",
    "\n",
    "dict_2 = {\"one\": 10, \"two\": 20, \"three\":30}\n",
    "print(dict_2)\n",
    "print(\"Let's remove one\")\n",
    "dict_2.pop(\"one\")\n",
    "print(dict_2)\n",
    "print(\"Let's remove three also\")\n",
    "dict_2.pop(\"three\")\n",
    "print(dict_2)"
   ]
  },
  {
   "cell_type": "markdown",
   "metadata": {},
   "source": [
    "### Sets\n",
    "**Set** is another Python collection type. Set could be understood as unordered collection of unique\n",
    "objects. Sets have methods that can perform set operations like **union()**, **intersection()**, **issubsset()**."
   ]
  },
  {
   "cell_type": "markdown",
   "metadata": {},
   "source": [
    "## File IO"
   ]
  },
  {
   "cell_type": "markdown",
   "metadata": {},
   "source": [
    "### Text Files"
   ]
  },
  {
   "cell_type": "markdown",
   "metadata": {},
   "source": [
    "Python offers a bult-in ***file*** object that lets us access files."
   ]
  },
  {
   "cell_type": "code",
   "execution_count": 20,
   "metadata": {},
   "outputs": [],
   "source": [
    "# Let's write a string to a file\n",
    "fid = open('file_1.txt', 'w')\n",
    "fid.write(\"Hello World!\")\n",
    "fid.close()"
   ]
  },
  {
   "cell_type": "code",
   "execution_count": 22,
   "metadata": {},
   "outputs": [
    {
     "name": "stdout",
     "output_type": "stream",
     "text": [
      "Hello World!\n"
     ]
    }
   ],
   "source": [
    "# Open the file and print its content\n",
    "fid = open('file_1.txt', 'r')\n",
    "text = fid.read()\n",
    "fid.close()\n",
    "print(text)"
   ]
  },
  {
   "cell_type": "markdown",
   "metadata": {},
   "source": [
    "##### Read on the internet how to read, CSV and JSON files. SInce these are common file formats in practice."
   ]
  },
  {
   "cell_type": "markdown",
   "metadata": {},
   "source": [
    "# Numpy"
   ]
  },
  {
   "cell_type": "markdown",
   "metadata": {},
   "source": [
    "Numpy is a Python library that offers efficient methods for numerical operations on muti-dimensional arrays. Numpy's array class is called ndarray or array."
   ]
  },
  {
   "cell_type": "code",
   "execution_count": 24,
   "metadata": {},
   "outputs": [
    {
     "name": "stdout",
     "output_type": "stream",
     "text": [
      "Empty array  []\n"
     ]
    }
   ],
   "source": [
    "# Importing numpy\n",
    "import numpy as np\n",
    "arr = np.array(()) # Empty array\n",
    "print(\"Empty array \", arr)\n"
   ]
  },
  {
   "cell_type": "code",
   "execution_count": 25,
   "metadata": {},
   "outputs": [
    {
     "name": "stdout",
     "output_type": "stream",
     "text": [
      "[[0 1 2 3]\n",
      " [1 2 3 4]\n",
      " [3 4 5 6]]\n",
      "(3, 4)\n"
     ]
    }
   ],
   "source": [
    "# Let's create a numpy array that contains something\n",
    "arr_1 = np.array([[0,1,2,3],[1,2,3,4],[3,4,5,6]])\n",
    "print(arr_1)\n",
    "\n",
    "# Numpy arrays have shape attribute\n",
    "print(arr_1.shape)"
   ]
  },
  {
   "cell_type": "code",
   "execution_count": 26,
   "metadata": {},
   "outputs": [
    {
     "name": "stdout",
     "output_type": "stream",
     "text": [
      "\n",
      " ones of size 2x2, \n",
      "  [[ 1.  1.]\n",
      " [ 1.  1.]]\n",
      "\n",
      " 2x2 matrix of random numbers, \n",
      "  [[ 0.07864365  0.64123514]\n",
      " [ 0.89481608  0.46699932]]\n"
     ]
    }
   ],
   "source": [
    "# Numpy has functions that can let us create special types of matrices\n",
    "ones = np.ones([2,2]) # the argument [2,2] is the size of the \n",
    "zeros = np.zeros((3,3))\n",
    "rand = np.random.rand(2,2)\n",
    "print(\"\\n ones of size 2x2, \\n \", ones)\n",
    "\n",
    "print(\"\\n 2x2 matrix of random numbers, \\n \", rand)"
   ]
  },
  {
   "cell_type": "code",
   "execution_count": 27,
   "metadata": {},
   "outputs": [
    {
     "name": "stdout",
     "output_type": "stream",
     "text": [
      "\n",
      " [[5 5 5]\n",
      " [5 5 5]\n",
      " [5 5 5]]\n",
      "\n",
      " [[ 1.  0.  0.]\n",
      " [ 0.  1.  0.]\n",
      " [ 0.  0.  1.]]\n"
     ]
    }
   ],
   "source": [
    "full = np.full((3,3),5) # A 3x3 Matrix of 5s\n",
    "print(\"\\n\", full)\n",
    "eye  = np.eye(3) # 3x3 Identity matrix\n",
    "print(\"\\n\", eye)"
   ]
  },
  {
   "cell_type": "markdown",
   "metadata": {},
   "source": [
    "### Array Indexing"
   ]
  },
  {
   "cell_type": "markdown",
   "metadata": {},
   "source": [
    "Numpy has a number of easy ways to access elements of an array or slice arrays. "
   ]
  },
  {
   "cell_type": "code",
   "execution_count": 28,
   "metadata": {},
   "outputs": [
    {
     "name": "stdout",
     "output_type": "stream",
     "text": [
      "row=0, col=1 \n",
      " 1\n",
      "row=0, col=2 \n",
      " 2\n",
      "row=2, col=3 \n",
      " 6\n",
      "[[0 1 2 3]\n",
      " [1 2 3 4]\n",
      " [3 4 5 6]]\n",
      "first_row  [0 1 2 3]\n",
      "\n",
      " again first_row \n",
      "  [0 1 2]\n",
      "\n",
      " again first_row \n",
      "  [0 1 2]\n",
      "\n",
      " again first_row \n",
      "  [0 1 2 3]\n",
      "first_col  [0 1 3]\n",
      "\n",
      " Rows 0,1 and Cols 1,2,3 \n",
      " [[1 2 3]\n",
      " [2 3 4]]\n"
     ]
    }
   ],
   "source": [
    "arr_1 = np.array([[0,1,2,3],[1,2,3,4],[3,4,5,6]])\n",
    "\n",
    "\n",
    "# accessing elements of a matrix\n",
    "\n",
    "print(\"row=0, col=1 \\n\", arr_1[0,1]) #prints 1\n",
    "print(\"row=0, col=2 \\n\", arr_1[0,2]) #prints 2\n",
    "\n",
    "print(\"row=2, col=3 \\n\", arr_1[2,3]) #prints 6\n",
    "\n",
    "# Let's access the first row\n",
    "\n",
    "row_0 = arr_1[0,:]\n",
    "print(arr_1)\n",
    "print(\"first_row \", row_0)\n",
    "\n",
    "# : means \"all\", or start:end\n",
    "row_0 = arr_1[0,0:3]\n",
    "print(\"\\n again first_row \\n \", row_0)\n",
    "# There are few more varations to this way of accessing arrays\n",
    "\n",
    "# :3,means start:3\n",
    "row_0 = arr_1[0,:3]\n",
    "print(\"\\n again first_row \\n \", row_0)\n",
    "\n",
    "# 0:, means 0:end\n",
    "row_0 = arr_1[0,0:]\n",
    "print(\"\\n again first_row \\n \", row_0)\n",
    "\n",
    "# Let's print the first column\n",
    "col_0 = arr_1[:,0]\n",
    "print(\"first_col \", col_0)\n",
    "\n",
    "# You can also access sub-array as follows\n",
    "# Let's retreive a subarray that spans: \n",
    "# rows: 0 and 1 & columns: 1,2 and 3\n",
    "\n",
    "sub_matrix = arr_1[0:2,1:4]\n",
    "print(\"\\n Rows 0,1 and Cols 1,2,3 \\n\", sub_matrix)\n",
    "\n"
   ]
  },
  {
   "cell_type": "markdown",
   "metadata": {},
   "source": [
    "### Boolean Array Indexing"
   ]
  },
  {
   "cell_type": "markdown",
   "metadata": {},
   "source": [
    "Boolean array indexing enables accessing an array via another array of boolean values. Boolean indexing is a very useful feature of Numpy arrays. At times we are interested to index arrays based on a **condition**. For instance, if we have an arra, which contains depth values for a 3x3 pixel region we might want to slice out the entries with negative depth values, or discard entries with very large depth values, etc."
   ]
  },
  {
   "cell_type": "code",
   "execution_count": 29,
   "metadata": {},
   "outputs": [
    {
     "name": "stdout",
     "output_type": "stream",
     "text": [
      "[4]\n",
      "\n",
      " [[ 1 -3  4]\n",
      " [-5  6  4]\n",
      " [ 9  9 -9]] \n",
      "\n",
      "Flag  \n",
      " [[False  True False]\n",
      " [ True False False]\n",
      " [False False  True]] \n",
      "\n",
      "\n",
      " [[1 0 4]\n",
      " [0 6 4]\n",
      " [9 9 0]]\n"
     ]
    }
   ],
   "source": [
    "# Boolean indexing\n",
    "arr = np.array([1,2,3,4])\n",
    "flag = np.array([False, False, False, True])\n",
    "print(arr[flag]) #Prints [4]\n",
    "\n",
    "D = np.array([[1,-3,4],[-5,6,4],[9,9,-9]])\n",
    "print(\"\\n\", D, \"\\n\")\n",
    "\n",
    "# Let's replace all negative values to 0\n",
    "\n",
    "\n",
    "flag = D<0 # This creates an a boolean array of same shape as D,\n",
    "           # assigns True if the condition is satisfied, False otherwise\n",
    "\n",
    "D[flag] = 0\n",
    "print(\"Flag  \\n\", flag, \"\\n\")\n",
    "print(\"\\n\", D)"
   ]
  },
  {
   "cell_type": "markdown",
   "metadata": {},
   "source": [
    "#### Numpy Array Maths\n",
    "Numpy provides a number of mathematical operations that we can perform on matrices.\n",
    "\n",
    "***array.min()*** returns mininimum value of the matrix, <br>\n",
    "***array.min(axis=dim)*** returns minimum value across the axis give as an argument <br>\n",
    "\n",
    "***array.max(axis=dim)***  max <br>\n",
    "***array.mean(axis=dim)*** Mean <br>\n",
    "***array.std(axis=dim)***  Standard deviation <br>\n",
    "\n",
    "##### Elementwise operations\n",
    "***np.log(array)*** Natural Logarithm <br>\n",
    "***np.log10(array)***                                         Logarithm base 10 <br>\n",
    "***np.exp(array)***                                         Exponential of all elements oa the array <br>\n",
    "\n",
    "Numpy has a large number of methods. You can just search the collection of methods using ***np.lookfor(keyword)*** method."
   ]
  },
  {
   "cell_type": "code",
   "execution_count": 20,
   "metadata": {},
   "outputs": [
    {
     "name": "stdout",
     "output_type": "stream",
     "text": [
      "\n",
      " [[ 0.87395016  0.21536815  0.49107858]\n",
      " [ 0.4181208   0.830651    0.66389046]\n",
      " [ 0.7151996   0.10204562  0.9060781 ]]\n",
      "\n",
      " [ 2.00727057  1.14806477  2.06104714]\n",
      "\n",
      " 5.21638247213\n",
      "\n",
      " [ 0.4181208   0.10204562  0.49107858]\n",
      "\n",
      " 0.102045616847\n"
     ]
    }
   ],
   "source": [
    "a = np.random.rand(3,3)\n",
    "print(\"\\n\", a)\n",
    "print(\"\\n\", a.sum(axis=0)) # sum, across the given axis\n",
    "print(\"\\n\", a.sum()) # sum of all array elements\n",
    "\n",
    "print(\"\\n\", a.min(axis=0))\n",
    "print(\"\\n\", a.min())"
   ]
  },
  {
   "cell_type": "markdown",
   "metadata": {},
   "source": [
    "#### Manipulating Arrays\n",
    "\n",
    "Numpy offers powerful array manipulation options via methods such as ***transpose()***, ***append()***, ***reshape()*** etc. <br>"
   ]
  },
  {
   "cell_type": "code",
   "execution_count": 21,
   "metadata": {},
   "outputs": [
    {
     "name": "stdout",
     "output_type": "stream",
     "text": [
      "array_0.shape\n",
      "(3, 2)\n",
      "array_t.shape\n",
      "(2, 3)\n",
      "array_0.reshape(6,1)\n",
      "[[ 0.65756978]\n",
      " [ 0.67336991]\n",
      " [ 0.10131435]\n",
      " [ 0.61077416]\n",
      " [ 0.42904403]\n",
      " [ 0.79227961]]\n"
     ]
    }
   ],
   "source": [
    "# Tanspose\n",
    "array_0 = np.random.rand(3,2)\n",
    "print(\"array_0.shape\")\n",
    "print(array_0.shape)\n",
    "\n",
    "array_t = array_0.transpose()\n",
    "print(\"array_t.shape\")\n",
    "print(array_t.shape)\n",
    "\n",
    "# Reshaping\n",
    "print(\"array_0.reshape(6,1)\")\n",
    "print(array_0.reshape(6,1))\n"
   ]
  },
  {
   "cell_type": "code",
   "execution_count": 30,
   "metadata": {},
   "outputs": [
    {
     "name": "stdout",
     "output_type": "stream",
     "text": [
      "array_0.shape\n",
      "(2, 3, 4)\n",
      "array_0.transpose(2,0,1).shape\n",
      "(4, 2, 3)\n",
      "2D Array\n",
      "(2, 3, 4)\n",
      "1D Vector\n",
      "(6,)\n"
     ]
    }
   ],
   "source": [
    "# Transpose operation allows changing oder-of-dimensions\n",
    "# Suppose we have an array of [H, W, D], if we want to re-order the dimensions so that D is \n",
    "# the first dimension of the array, i.e to have the array dimensions as [D, H, W]\n",
    "\n",
    "array_0 = np.random.rand(2,3,4)\n",
    "print(\"array_0.shape\")\n",
    "print(array_0.shape) # [2,3,4]\n",
    "array_1 = array_0.transpose(2,0,1)\n",
    "print(\"array_0.transpose(2,0,1).shape\")\n",
    "print(array_1.shape) # [4,2,3]\n",
    "\n",
    "# Sometimes we would like to squeeze an ndarray on to a one dimensional vector \n",
    "print(\"2D Array\")\n",
    "print(array_0.shape)\n",
    "print(\"1D Vector\")\n",
    "array_0 = np.array([[1,2],[3,4],[5,6]])\n",
    "array_1d = array_0.ravel()\n",
    "print(array_1d.shape)"
   ]
  },
  {
   "cell_type": "markdown",
   "metadata": {},
   "source": [
    "#### Stacking Arrays"
   ]
  },
  {
   "cell_type": "code",
   "execution_count": 25,
   "metadata": {},
   "outputs": [
    {
     "name": "stdout",
     "output_type": "stream",
     "text": [
      "(2, 2, 2)\n"
     ]
    }
   ],
   "source": [
    "array_0 = np.random.rand(2,2)\n",
    "array_1 = np.random.rand(2,2)\n",
    "\n",
    "# Let's stack array_0 and array_1 in to a [2,2,2] array\n",
    "array_0_1 = np.stack((array_0, array_1))\n",
    "print(array_0_1.shape)"
   ]
  },
  {
   "cell_type": "code",
   "execution_count": 26,
   "metadata": {},
   "outputs": [
    {
     "name": "stdout",
     "output_type": "stream",
     "text": [
      "arrays,  (2, 2) (2, 2)\n",
      "horizontal stack,  (2, 4)\n",
      "vertical stack,  (4, 2)\n"
     ]
    }
   ],
   "source": [
    "# Horizontal and vertical stacking\n",
    "\n",
    "array_0 = np.random.rand(2,2)\n",
    "array_1 = np.random.rand(2,2)\n",
    "\n",
    "h_stack = np.hstack((array_0, array_1))\n",
    "v_stack = np.vstack((array_0, array_1))\n",
    "print(\"arrays, \", array_0.shape, array_1.shape)\n",
    "print(\"horizontal stack, \", h_stack.shape)\n",
    "print(\"vertical stack, \",v_stack.shape)"
   ]
  },
  {
   "cell_type": "code",
   "execution_count": 27,
   "metadata": {},
   "outputs": [
    {
     "name": "stdout",
     "output_type": "stream",
     "text": [
      "(1, 2, 2)\n"
     ]
    }
   ],
   "source": [
    "# Stacking across a specific dimension\n",
    "\n",
    "array_0 = np.random.rand(1,2)\n",
    "array_1 = np.random.rand(1,2)\n",
    "\n",
    "# Stack across dim=2 \n",
    "stack = np.stack((array_0, array_1), 2)\n",
    "print(stack.shape)"
   ]
  },
  {
   "cell_type": "code",
   "execution_count": 33,
   "metadata": {},
   "outputs": [
    {
     "name": "stdout",
     "output_type": "stream",
     "text": [
      "(3, 2)\n",
      "(1, 6)\n",
      " Splitting arrays \n",
      "[[ 0.19623706  0.36920673]\n",
      " [ 0.26879283  0.54074767]\n",
      " [ 0.91322187  0.10518891]]\n",
      "[array([[ 0.19623706,  0.36920673]]), array([[ 0.26879283,  0.54074767]]), array([[ 0.91322187,  0.10518891]])]\n"
     ]
    }
   ],
   "source": [
    "# Concatenating across a dimension\n",
    "\n",
    "array_0 = np.random.rand(1,2)\n",
    "array_1 = np.random.rand(1,2)\n",
    "array_2 = np.random.rand(1,2)\n",
    "\n",
    "# Concatenate across dim=0 \n",
    "stack = np.concatenate((array_0, array_1, array_2), 0) # shape=(3,2)\n",
    "print(stack.shape)\n",
    "\n",
    "# Concatenate across dim=1\n",
    "stack = np.concatenate((array_0, array_1, array_2), 1) # shape=(1,6)\n",
    "print(stack.shape)\n",
    "\n",
    "# Spliting arrays into multiple sub-arrays\n",
    "print(\" Splitting arrays \")\n",
    "array = np.random.rand(3,2)\n",
    "split = np.split(array, 3,0)\n",
    "print(array)\n",
    "print(split)\n"
   ]
  },
  {
   "cell_type": "markdown",
   "metadata": {},
   "source": [
    "### Numpy from text\n",
    "Numpy offers handy tools to load data from text files. We will use np.loadtxt() and genfromtxt() to read the numerical data stored inside the data/data_0.txt file.\n",
    "When you open \"data/data_0.txt\" file you will see the following numerical data stored.\n",
    "\n",
    "Sample description of the data.\n",
    "Value1  Value2  Value3\n",
    "0.6  0.1  0.2\n",
    "0.4  0.4  0.3\n",
    "0.2  0.6  0.9\n",
    "0.1  0.9  0.6"
   ]
  },
  {
   "cell_type": "code",
   "execution_count": 35,
   "metadata": {},
   "outputs": [
    {
     "name": "stdout",
     "output_type": "stream",
     "text": [
      "[[ 0.6  0.1  0.2]\n",
      " [ 0.4  0.4  0.3]\n",
      " [ 0.2  0.6  0.9]\n",
      " [ 0.1  0.9  0.6]] \n",
      "\n",
      "\n",
      " [[ 0.6  0.1  0.2]\n",
      " [ 0.4  0.4  0.3]\n",
      " [ 0.2  0.6  0.9]\n",
      " [ 0.1  0.9  0.6]] \n",
      "\n"
     ]
    }
   ],
   "source": [
    "data_1 = np.loadtxt('data/data_0.txt', skiprows=2)\n",
    "print(data_1, '\\n')\n",
    "data_2 = np.genfromtxt('data/data_0.txt',skip_header=2)\n",
    "print('\\n', data_2, '\\n')"
   ]
  },
  {
   "cell_type": "code",
   "execution_count": 38,
   "metadata": {},
   "outputs": [],
   "source": [
    "# Let's multiply the elements of the data array by random integer between 0 and 9\n",
    "# and save the result as data/data_rand.txt\n",
    "np.savetxt('./data/data_rand.txt', data_1*np.random.randint(0,9), delimiter=\" \")\n",
    "np.savetxt('./data/data_rand_comma_speparated.txt', data_1*np.random.randint(0,9), delimiter=\",\")"
   ]
  },
  {
   "cell_type": "markdown",
   "metadata": {},
   "source": [
    "# Scipy\n"
   ]
  },
  {
   "cell_type": "markdown",
   "metadata": {},
   "source": [
    "Numpy provides powerful set of tools for manipulating arrays and performing matrix operations. The Scipy library builds upon Numpy to large number of algorithms and mathematical functions. In this class we will be using only few of the features, like ***matrix-inversion, norm computation, reading images from disk etc***. However, Scipy provides a wide range of mathematical operation for **linear algebra, optimization, image analysis, fast fourier transforms, etc**.  \n",
    "\n",
    "We recommend to have a look at the documentation of scipy. https://docs.scipy.org/doc/"
   ]
  },
  {
   "cell_type": "code",
   "execution_count": 39,
   "metadata": {},
   "outputs": [
    {
     "name": "stdout",
     "output_type": "stream",
     "text": [
      "6.0\n",
      "5.47722557505\n",
      "5.47722557505\n"
     ]
    }
   ],
   "source": [
    "import scipy.linalg\n",
    "# Computing Norm of a vector\n",
    "vec_a = np.array([[1,2],[3,4]])\n",
    "\n",
    "# L1 Norm\n",
    "print(scipy.linalg.norm(vec_a,1))\n",
    "\n",
    "# Frobenius norm # this is the default norm\n",
    "print(scipy.linalg.norm(vec_a,\"fro\"))\n",
    "print(np.sqrt(np.square(vec_a).sum()))"
   ]
  },
  {
   "cell_type": "code",
   "execution_count": 36,
   "metadata": {},
   "outputs": [
    {
     "name": "stdout",
     "output_type": "stream",
     "text": [
      "[[  1.00000000e+00  -1.11022302e-16  -4.16333634e-17]\n",
      " [ -2.77555756e-17   1.00000000e+00  -5.55111512e-17]\n",
      " [  2.77555756e-17  -1.11022302e-16   1.00000000e+00]]\n",
      "[[  1.00000000e+00   0.00000000e+00  -4.16333634e-17]\n",
      " [ -5.55111512e-17   1.00000000e+00  -5.55111512e-17]\n",
      " [ -2.77555756e-17  -1.11022302e-16   1.00000000e+00]]\n"
     ]
    }
   ],
   "source": [
    "# Computing Matrix Inverse\n",
    "R = np.random.rand(3,3)\n",
    "R_inv = scipy.linalg.inv(R)\n",
    "print(np.dot(R, R_inv)) # Identity matrix\n",
    "R_inv = np.linalg.inv(R)\n",
    "print(np.dot(R, R_inv)) # Identity matrix"
   ]
  },
  {
   "cell_type": "markdown",
   "metadata": {},
   "source": [
    "#### Loading Images\n",
    "\n",
    "We will use the matplotlib library for loading, saving and displaying images. "
   ]
  },
  {
   "cell_type": "code",
   "execution_count": 7,
   "metadata": {
    "scrolled": true
   },
   "outputs": [
    {
     "name": "stdout",
     "output_type": "stream",
     "text": [
      "(225, 225, 3)\n"
     ]
    },
    {
     "data": {
      "image/png": "[encoded data removed]",
      "text/plain": [
       "<matplotlib.figure.Figure at 0x7f1131389588>"
      ]
     },
     "metadata": {},
     "output_type": "display_data"
    }
   ],
   "source": [
    "import matplotlib.pyplot as plt\n",
    "import imageio\n",
    "# Let's load an image with scipy \n",
    "img = plt.imread('data/images/lena.jpeg')\n",
    "print(img.shape) # RGB Image\n",
    "plt.imshow(img)\n",
    "plt.show()"
   ]
  },
  {
   "cell_type": "code",
   "execution_count": 54,
   "metadata": {},
   "outputs": [
    {
     "data": {
      "image/png": "[encoded data removed]",
      "text/plain": [
       "<matplotlib.figure.Figure at 0x7f1131283b00>"
      ]
     },
     "metadata": {},
     "output_type": "display_data"
    }
   ],
   "source": [
    "# Displaying data as a heat map\n",
    "\n",
    "img = plt.imread('./data/depth_map.png')\n",
    "plt.imshow(img, cmap='gray')\n",
    "plt.show()"
   ]
  },
  {
   "cell_type": "code",
   "execution_count": 56,
   "metadata": {},
   "outputs": [
    {
     "data": {
      "image/png": "[encoded data removed]",
      "text/plain": [
       "<matplotlib.figure.Figure at 0x7f1131268eb8>"
      ]
     },
     "metadata": {},
     "output_type": "display_data"
    }
   ],
   "source": [
    "plt.imshow(img, cmap='winter')\n",
    "plt.show()\n",
    "plt.imsave('./data/depth_map_hot.png', img, cmap='hot')"
   ]
  },
  {
   "cell_type": "code",
   "execution_count": 49,
   "metadata": {},
   "outputs": [
    {
     "data": {
      "image/png": "[encoded data removed]",
      "text/plain": [
       "<matplotlib.figure.Figure at 0x7f1176c36550>"
      ]
     },
     "metadata": {},
     "output_type": "display_data"
    }
   ],
   "source": [
    "plt.imshow(img, cmap='hot',  clim=(0.0, 0.9))\n",
    "plt.show()"
   ]
  },
  {
   "cell_type": "markdown",
   "metadata": {},
   "source": [
    "### Functions\n",
    "Functions are created with keyword **def**. The statement section is mandatory while the return statement is optional. \n"
   ]
  },
  {
   "cell_type": "markdown",
   "metadata": {},
   "source": [
    "<html>\n",
    "    <b>def</b> name(arg1, arg2,...,argN):<br>\n",
    "   &emsp; statement<br>\n",
    "    &emsp; <b> return</b> value<br>\n",
    "</html>"
   ]
  },
  {
   "cell_type": "code",
   "execution_count": 38,
   "metadata": {},
   "outputs": [
    {
     "name": "stdout",
     "output_type": "stream",
     "text": [
      "[[10]\n",
      " [20]\n",
      " [30]]\n",
      "[[ 10.        ]\n",
      " [  4.97933404]\n",
      " [ 62.77773016]]\n"
     ]
    }
   ],
   "source": [
    "# Let's create a function that does nothing\n",
    "def do_nothing():\n",
    "    pass\n",
    "\n",
    "# Lets write a function that projects a point a 3D from world to camera coordinates\n",
    "def project_points(X, R, T):\n",
    "    return np.dot(R, X) + T\n",
    "\n",
    "# Let create a rotation matrix that rotates points in 3D by 45 degrees across the x-axis\n",
    "\n",
    "R = np.array([[1, 0, 0],[0, np.cos(45), -1*np.sin(45)],[0, np.sin(45), np.cos(45)]])\n",
    "T = np.array([[0],[20],[30]])\n",
    "\n",
    "X_world = np.array([[10],[20],[30]])\n",
    "X_camera = project_points(X_world, R, T)\n",
    "\n",
    "print(X_world)\n",
    "print(X_camera)"
   ]
  },
  {
   "cell_type": "markdown",
   "metadata": {},
   "source": [
    "### Python Classes\n",
    "\n",
    "Python supports object oriented programming. Python classes are created using keyword **class**, as follows"
   ]
  },
  {
   "cell_type": "markdown",
   "metadata": {},
   "source": [
    "<html>\n",
    "    <b>class</b> camera_projection:<br>\n",
    "   &emsp; <b>pass</b>\n",
    "    <br>\n",
    "</html>\n",
    "\n",
    "\n",
    "camera_projection is the name of the class. The class has no methods/member functions/ or attributes. \n"
   ]
  },
  {
   "cell_type": "code",
   "execution_count": 39,
   "metadata": {},
   "outputs": [
    {
     "name": "stdout",
     "output_type": "stream",
     "text": [
      "<__main__.camera_projection object at 0x7f4c871ef3c8>\n",
      "10\n"
     ]
    }
   ],
   "source": [
    "class camera_projection:\n",
    "        pass\n",
    "\n",
    "cp = camera_projection()\n",
    "print(cp)\n",
    "\n",
    "# It is possible to add new attributes to the class \n",
    "cp.attribute_1  = 10\n",
    "print(cp.attribute_1)"
   ]
  },
  {
   "cell_type": "markdown",
   "metadata": {},
   "source": [
    "The builtin **\\__init\\__()** serves as a constructor for Python classes. the method **\\__init\\__()** is invoked when an instance of the class is created. Let's create a class that has the **\\__init\\__()** constructor."
   ]
  },
  {
   "cell_type": "code",
   "execution_count": 40,
   "metadata": {},
   "outputs": [
    {
     "name": "stdout",
     "output_type": "stream",
     "text": [
      " Rotation matrix \n",
      "  [[ 1.          0.          0.        ]\n",
      " [ 0.          0.52532199 -0.85090352]\n",
      " [ 0.          0.85090352  0.52532199]]\n",
      " Translation Vec \n",
      "  [[ 0]\n",
      " [20]\n",
      " [30]]\n",
      "In world coordinates \n",
      " [[10]\n",
      " [20]\n",
      " [30]]\n",
      "In camera coordinates \n",
      " [[ 10.        ]\n",
      " [  4.97933404]\n",
      " [ 62.77773016]]\n"
     ]
    }
   ],
   "source": [
    "# let's create a class for projecting 3D points from World Coordinate system to the camera coordinate system \n",
    "# using known rotation and translation matrices.\n",
    "\n",
    "class world_to_camera():\n",
    "    def __init__(self, rot_mat, t_vec):\n",
    "        self.R = rot_mat\n",
    "        self.T = t_vec\n",
    "        \n",
    "    def proj_w_2_c(self, X):\n",
    "        return np.dot(self.R, X) + self.T\n",
    "\n",
    "R = np.array([[1, 0, 0],[0, np.cos(45), -1*np.sin(45)],[0, np.sin(45), np.cos(45)]])\n",
    "T = np.array([[0],[20],[30]])\n",
    "\n",
    "projector = world_to_camera(R, T)\n",
    "\n",
    "X_world = np.array([[10],[20],[30]])\n",
    "X_camera = projector.proj_w_2_c(X_world)\n",
    "\n",
    "print(\" Rotation matrix \\n \", projector.R)\n",
    "print(\" Translation Vec \\n \", projector.T)\n",
    "\n",
    "print(\"In world coordinates \\n\", X_world)\n",
    "print(\"In camera coordinates \\n\", X_camera)"
   ]
  },
  {
   "cell_type": "markdown",
   "metadata": {},
   "source": [
    "#### Inheritance\n",
    "We can extend Python classes via inheritance. Let's create class_a and extend it to class_b which inherits class_a and adds new attributes and member functions."
   ]
  },
  {
   "cell_type": "code",
   "execution_count": 1,
   "metadata": {},
   "outputs": [],
   "source": [
    "\n",
    "class class_a():\n",
    "    def __init__(self, arg_1):\n",
    "        self.attr_1 = arg_1\n",
    "    def method_1(self):\n",
    "        print(\"method from class_a\", self.attr_1)\n",
    "\n",
    "class class_b(class_a):\n",
    "    def __init__(self, arg_1, arg_2):\n",
    "        super(class_b, self).__init__(arg_1)\n",
    "        self.attr_2 = arg_2\n",
    "    def method_2(self):\n",
    "        print(\"new method from class_b \", self.attr_2)\n",
    "\n",
    "obj = class_b(1,2)"
   ]
  },
  {
   "cell_type": "code",
   "execution_count": 3,
   "metadata": {},
   "outputs": [
    {
     "name": "stdout",
     "output_type": "stream",
     "text": [
      "method from class_a 1\n",
      "new method from class_b  2\n"
     ]
    }
   ],
   "source": [
    "obj.method_1()\n",
    "obj.method_2()"
   ]
  }
 ],
 "metadata": {
  "kernelspec": {
   "display_name": "Python 2",
   "language": "python",
   "name": "python2"
  },
  "language_info": {
   "codemirror_mode": {
    "name": "ipython",
    "version": 3
   },
   "file_extension": ".py",
   "mimetype": "text/x-python",
   "name": "python",
   "nbconvert_exporter": "python",
   "pygments_lexer": "ipython3",
   "version": "3.5.2"
  }
 },
 "nbformat": 4,
 "nbformat_minor": 2
}
