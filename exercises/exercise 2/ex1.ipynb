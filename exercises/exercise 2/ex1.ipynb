{
 "cells": [
  {
   "cell_type": "code",
   "execution_count": 49,
   "metadata": {},
   "outputs": [],
   "source": [
    "import os, sys\n",
    "import numpy as np\n",
    "import cv2 as cv\n",
    "\n",
    "import scipy.io as io\n",
    "\n",
    "base_folder = './data/'\n",
    "\n",
    "image_num = 1\n",
    "data = io.loadmat('./data/ex1.mat')\n",
    "X_3D = data['X_3D'][0]\n",
    "Y_3D = data['X_3D'][1]\n",
    "Z_3D = data['X_3D'][2]\n",
    "TVecs = data['TVecs']\t\t# Translation vector: as the world origin is seen from the camera coordinates\n",
    "RMats = data['RMats']\t\t# Rotation matrices: converts coordinates from world to camera\n",
    "kc = data['dist_params']\t# Distortion parameters\n",
    "Kintr = data['intinsic_matrix']\t# K matrix of the cameras\n",
    "\n",
    "imgs = [cv.imread(base_folder+str(i).zfill(5)+'.jpg') for i in range(TVecs.shape[0])]"
   ]
  },
  {
   "cell_type": "code",
   "execution_count": 136,
   "metadata": {},
   "outputs": [
    {
     "name": "stdout",
     "output_type": "stream",
     "text": [
      "('full RT shape: ', (4, 4))\n",
      "('full K shape: ', (3, 3))\n",
      "('P shape: ', (3, 4))\n",
      "('xyz shape: ', (4,))\n",
      "('2D points shape: ', (40, 3))\n"
     ]
    },
    {
     "data": {
      "text/plain": [
       "True"
      ]
     },
     "execution_count": 136,
     "metadata": {},
     "output_type": "execute_result"
    }
   ],
   "source": [
    "def get_transrot_matrix(R,T):\n",
    "    RT = np.hstack((R, T))\n",
    "    lower_part = np.array([0,0,0,1])\n",
    "    full_RT = np.vstack((RT,lower_part))\n",
    "    return full_RT\n",
    "\n",
    "def get_calibration_matrix(K):\n",
    "    right_part = np.array([[0],[0],[0]])\n",
    "    K_I3O3 = np.hstack((K, right_part))\n",
    "    return K_I3O3\n",
    "\n",
    "def project_points(X, K, R, T, distortion_flag=False, distortion_params=None):\n",
    "    \"\"\"\n",
    "    Your implementation goes here!\n",
    "    \"\"\"\n",
    "    X_camera = []\n",
    "    RT = get_transrot_matrix(R, T)\n",
    "    print(\"full RT shape: \", RT.shape)\n",
    "    K_I3O3 = get_calibration_matrix(K)\n",
    "    print(\"full K shape: \", K.shape)\n",
    "    P = np.dot(K_I3O3,RT)\n",
    "    print(\"P shape: \", P.shape)\n",
    "    for idx in range(X_3D.shape[1]):\n",
    "        x = X_3D[0][idx]\n",
    "        y = X_3D[1][idx]\n",
    "        z = X_3D[2][idx]\n",
    "        xyz = np.array([x,y,z,1])\n",
    "        if idx == 0: # just for debugging\n",
    "            print(\"xyz shape: \", xyz.shape)\n",
    "        uvw = np.dot(P,xyz)\n",
    "        # get x, y in homogeneous coords; not x_pix\n",
    "        X_camera.append(uvw[:3]/uvw[-1])\n",
    "    X_camera = np.array(X_camera)\n",
    "    # Project points from 3d world coordinates to 2d image coordinates\n",
    "    return X_camera\n",
    "\n",
    "def project_and_draw(img, X_3d, K, R, T, distortion_flag, distortion_parameters):\n",
    "    \"\"\"\n",
    "        Your implementation goes here!\n",
    "    \"\"\"\n",
    "    # call your \"project_points\" function to project 3D points to camera coordinates\n",
    "    # draw the projected points on the image and save your output image here\n",
    "    # cv.imwrite(output_name, img_array)\n",
    "    pnts = project_points(X_3d, K, R, T)\n",
    "    print(\"2D points shape: \", pnts.shape)\n",
    "#     print(pnts)\n",
    "    return True\n",
    "\n",
    "project_and_draw(imgs[image_num], X_3D, Kintr, RMats[image_num], TVecs[image_num], kc,1)"
   ]
  },
  {
   "cell_type": "code",
   "execution_count": 124,
   "metadata": {},
   "outputs": [],
   "source": [
    "p_ = np.array([[1,2,3,4],[1,2,3,4],[1,2,3,4]])\n",
    "xyz_ = np.array([5,5,5,5])"
   ]
  },
  {
   "cell_type": "code",
   "execution_count": 125,
   "metadata": {},
   "outputs": [
    {
     "data": {
      "text/plain": [
       "(3, 4)"
      ]
     },
     "execution_count": 125,
     "metadata": {},
     "output_type": "execute_result"
    }
   ],
   "source": [
    "p_.shape"
   ]
  },
  {
   "cell_type": "code",
   "execution_count": 126,
   "metadata": {},
   "outputs": [
    {
     "data": {
      "text/plain": [
       "(4,)"
      ]
     },
     "execution_count": 126,
     "metadata": {},
     "output_type": "execute_result"
    }
   ],
   "source": [
    "xyz_.shape"
   ]
  },
  {
   "cell_type": "code",
   "execution_count": 127,
   "metadata": {},
   "outputs": [
    {
     "data": {
      "text/plain": [
       "array([50, 50, 50])"
      ]
     },
     "execution_count": 127,
     "metadata": {},
     "output_type": "execute_result"
    }
   ],
   "source": [
    "np.dot(p_,xyz_)"
   ]
  }
 ],
 "metadata": {
  "kernelspec": {
   "display_name": "Python 2",
   "language": "python",
   "name": "python2"
  },
  "language_info": {
   "codemirror_mode": {
    "name": "ipython",
    "version": 2
   },
   "file_extension": ".py",
   "mimetype": "text/x-python",
   "name": "python",
   "nbconvert_exporter": "python",
   "pygments_lexer": "ipython2",
   "version": "2.7.13"
  }
 },
 "nbformat": 4,
 "nbformat_minor": 2
}
